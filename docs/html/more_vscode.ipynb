{
 "cells": [
  {
   "cell_type": "markdown",
   "id": "e73c8188",
   "metadata": {},
   "source": [
    "# More on VS Code\n",
    "\n"
   ]
  },
  {
   "cell_type": "markdown",
   "id": "4f0885c1",
   "metadata": {},
   "source": [
    "Debugger!"
   ]
  },
  {
   "cell_type": "markdown",
   "id": "431f41db",
   "metadata": {},
   "source": [
    "Odds and Ends:\n",
    "\n",
    "- [watch the keyboard shortcuts section of this video (starts 6 minutes in)](https://youtu.be/YuWZNV4BkkY?t=361) to learn more about keyboard shortcuts!\n",
    "- [Customizing VS Code Settings](https://youtu.be/Knc6S4gUHzk): Slightly out of date in terms of how the Black options are presented, but otherwise still good!"
   ]
  },
  {
   "cell_type": "markdown",
   "id": "52d8cec3",
   "metadata": {},
   "source": []
  }
 ],
 "metadata": {
  "kernelspec": {
   "display_name": "Python 3.9.7 ('base')",
   "language": "python",
   "name": "python3"
  },
  "language_info": {
   "name": "python",
   "version": "3.9.7"
  },
  "vscode": {
   "interpreter": {
    "hash": "3e0a5228cb9726a24d36227c69ed0d3aac98cecda769d1c9adb080711d57f90d"
   }
  }
 },
 "nbformat": 4,
 "nbformat_minor": 5
}
