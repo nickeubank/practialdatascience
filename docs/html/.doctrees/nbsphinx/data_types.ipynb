{
 "cells": [
  {
   "cell_type": "markdown",
   "id": "3c46edff",
   "metadata": {},
   "source": [
    "# How computers think about numbers and text"
   ]
  },
  {
   "cell_type": "code",
   "execution_count": 3,
   "id": "e70150fa",
   "metadata": {},
   "outputs": [
    {
     "data": {
      "text/plain": [
       "\"0000000000000000000000000000000000000000000000000000000000000001\""
      ]
     },
     "execution_count": 3,
     "metadata": {},
     "output_type": "execute_result"
    }
   ],
   "source": [
    "bitstring(1)"
   ]
  },
  {
   "cell_type": "code",
   "execution_count": 5,
   "id": "0a162c12",
   "metadata": {},
   "outputs": [
    {
     "data": {
      "text/plain": [
       "\"0011111111110000000000000000000000000000000000000000000000000000\""
      ]
     },
     "execution_count": 5,
     "metadata": {},
     "output_type": "execute_result"
    }
   ],
   "source": [
    "bitstring(1.0)"
   ]
  },
  {
   "cell_type": "code",
   "execution_count": 6,
   "id": "40c33869",
   "metadata": {},
   "outputs": [
    {
     "data": {
      "text/plain": [
       "false"
      ]
     },
     "execution_count": 6,
     "metadata": {},
     "output_type": "execute_result"
    }
   ],
   "source": [
    "(3/2) == 1/5"
   ]
  },
  {
   "cell_type": "markdown",
   "id": "11d22b5e",
   "metadata": {},
   "source": [
    "Further reading / Resources: \n",
    "\n",
    "Computerphile Floating Point: https://www.youtube.com/watch?v=PZRI1IfStY0\n",
    "\n",
    "Computerphile Unicode: https://www.youtube.com/watch?v=MijmeoH9LT4"
   ]
  },
  {
   "cell_type": "code",
   "execution_count": null,
   "id": "307e1f3b",
   "metadata": {},
   "outputs": [],
   "source": []
  }
 ],
 "metadata": {
  "kernelspec": {
   "display_name": "Julia 1.0.3",
   "language": "julia",
   "name": "julia-1.0"
  },
  "language_info": {
   "file_extension": ".jl",
   "mimetype": "application/julia",
   "name": "julia",
   "version": "1.0.3"
  }
 },
 "nbformat": 4,
 "nbformat_minor": 5
}
