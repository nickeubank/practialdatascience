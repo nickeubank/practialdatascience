{
 "cells": [
  {
   "cell_type": "markdown",
   "id": "caa1f1a2",
   "metadata": {},
   "source": [
    "# Using GIS to Study Election Polling Places\n",
    "\n",
    "In an incredible example of data journalism, the [Center for Public Integrity](https://publicintegrity.org/) has done the incredibly hard work of collecting the locations of polling places in the US for a huge number of states from 2012-2018 (there also gathering data for 2020). \n",
    "\n",
    "For this exercise, we will be using some of their data to do some basic analyses of polling places."
   ]
  },
  {
   "cell_type": "markdown",
   "id": "e16ab048",
   "metadata": {},
   "source": [
    "## Exercise 1\n",
    "\n",
    "Visit the [github repo of the Center for Public Integrity](https://github.com/PublicI/us-polling-places/) and download the most recent polling place data for a state of your choice. Load the data. "
   ]
  },
  {
   "cell_type": "markdown",
   "id": "e317dd27",
   "metadata": {},
   "source": [
    "## Exercise 2: Geocoding\n",
    "\n",
    "In this data, you will find a column called \"Address\" with the addresses of each polling place. Unfortunately, an address -- saved as a string -- is not valid geospatial data, so we need to find a way to convert these addresses into latitudes and longitudes. \n",
    "\n",
    "The process of converting addresses into latitude and longitude is called *geocoding*, and can be done in a number of different ways.\n",
    "\n",
    "If you're willing to spend a little bit of money, my own favorite tool is [geocod.io](https://www.geocod.io/) -- upload a spreadsheet of addresses, and they will geocode them at a very reasonable price (all the polling places in North Carolina for a year costs about $1.50), and you can also get data attached to your spreadsheet like information from the U.S. Census for a little bit extra.\n",
    "\n",
    "Alternatively, you can use the [geocode tool in geopandas](https://geopandas.org/docs/user_guide/geocoding.html) to geocode addresses programmatically. The only limitation is that services that do geocoding are usually either quite limited in the number of addresses you can query per day, require an account code, or for some, both. Note that tool requires installing `geopy`, an optional geopandas dependency. \n",
    "\n",
    "Use this tool to geocode 20 of your polling place addresses (take a random sample) using `provider=\"ArcGIS\"`. Note this may take a while, as photon is rate-limited (it only accepts queries coming in so fast). ArcGIS is only free for a few queries, so we don't wanna get booted by getting greedy. :)\n",
    "\n",
    "(Note that if you're trying to do this in a classroom, the geocoding service may not be able to distinguish between different students with the same IP address so this may fail miserably. 🤣)\n",
    "\n",
    "Use `.plot()` to plot the resulting data. \n",
    "\n",
    "This geocode tool actually supports LOTS of [geocoders](https://geopy.readthedocs.io/en/stable/#module-geopy.geocoders), and while most of them aren't free, if you were doing this professionally you could get an API key to any of them to make this work with, say, google maps, or geocod.io for pretty cheap. \n"
   ]
  },
  {
   "cell_type": "markdown",
   "id": "f7fd8844",
   "metadata": {},
   "source": [
    "## Exercise 3: Spatial CSV \n",
    "\n",
    "Since that may or may not have worked for you depending on whether you got throttled by photon, we'll now turn to another way of working with spatial points data!\n",
    "\n",
    "While most geospatial data is stored in specialized file formats like shapefiles or GeoJSON, when geospatial data only includes the location of points, the data can actually be stored in a normal tabular data format like csv where the x-coordinate of each point is stored in one column and the y-coordinate is stored in another.\n",
    "\n",
    "I've gone ahead and geo-coded all the polling place addresses for North Carolina in 2018. Please [get those here](https://github.com/nickeubank/MIDS_Data/blob/master/North_Carolina_2018_geocoded.csv) and load them as a regular pandas dataframe. "
   ]
  },
  {
   "cell_type": "markdown",
   "id": "7f98ce62",
   "metadata": {},
   "source": [
    "## Exercise 4: Convert to Spatial"
   ]
  },
  {
   "cell_type": "markdown",
   "id": "8394d04d",
   "metadata": {},
   "source": [
    "Because this format of GIS point data is so common, geopandas has a special tool for converting regular dataframes with x and y coordinate columns to points: `points_from_xy()`. You can find an [example here](https://geopandas.org/gallery/create_geopandas_from_pandas.html#Creating-a-GeoDataFrame-from-a-DataFrame-with-coordinates). \n",
    "\n",
    "Convert the dataframe you just loaded to a geodataframe with points for all polling places using the `points_from_xy()` method.\n",
    "\n",
    "Plot the result. Does it look like North Carolina?"
   ]
  },
  {
   "cell_type": "markdown",
   "id": "980d5ef6",
   "metadata": {},
   "source": [
    "## Exercise 5: Set the CRS\n",
    "\n",
    "While you have successfully specified which columns contain x and y coordinates, you have NOT told Python the coordinate reference system of these points. Please SET the coordinate reference system to WGS84 (the CRS of latitudes and longitudes), also known as EPSG code 4326. Without doing this, you can neither re-project nor combine this data with other data!\n",
    "\n",
    "Note we are [SETTING, not RE-PROJECTING](https://geopandas.org/docs/user_guide/projections.html#setting-a-projection), a super important distinction! "
   ]
  },
  {
   "cell_type": "markdown",
   "id": "b910473c",
   "metadata": {},
   "source": [
    "## Exercise 6: Accuracy Checks\n",
    "\n",
    "Geocoding can be hard -- two columns you get from geocod.io are `Accuracy Score` and `Accuracy Type`. Check the distribution of accuracy types to see how well your geocoding actually went. You can read about [accuracy types here](https://www.geocod.io/guides/accuracy-types-scores/). "
   ]
  },
  {
   "cell_type": "markdown",
   "id": "ead2db51",
   "metadata": {},
   "source": [
    "Do you see any values you think you might not want to trust / might want to check by hand?"
   ]
  },
  {
   "cell_type": "markdown",
   "id": "9228351c",
   "metadata": {},
   "source": [
    "## Exercise 7: Re-project\n",
    "\n",
    "Latitude and longitude (epsg 4326) is not a very good projection for... well anything. Suppose that were primarily interested in measuring the distances between voters and their polling places. What type of projection do you think we would want to use?"
   ]
  },
  {
   "cell_type": "markdown",
   "id": "b540ee36",
   "metadata": {},
   "source": [
    "## Exercise 8: Re-Project for real\n",
    "\n",
    "You can find a good projection for [this purpose here](https://epsg.io/102010). Use it to re-project your data. When you plot it does it look different than your plot above?"
   ]
  },
  {
   "cell_type": "markdown",
   "id": "6b8231f1",
   "metadata": {},
   "source": [
    "## Exercise 9: Subset\n",
    "\n",
    "Geodataframes implement everything that was originally available in a normal pandas dataframe. To illustrate, subset your data to the county of Durham and plot it. \n"
   ]
  },
  {
   "cell_type": "markdown",
   "id": "cf2d7e14",
   "metadata": {},
   "source": [
    "## Exercise 10: Combine data\n",
    "\n",
    "You can find a shapefile that contains all of the US Census Blocks for the County of Durham [here](https://github.com/nickeubank/MIDS_Data/blob/master/tl_2019_37063_faces.zip). Download this file and load it using the geopandas function `read_file`. Plot it. "
   ]
  },
  {
   "cell_type": "markdown",
   "id": "a6a63a31",
   "metadata": {},
   "source": [
    "## Exercise 11: Map with Layers\n",
    "\n",
    "Following the [maps with layers](https://geopandas.org/docs/user_guide/mapping.html#maps-with-layers) directions, overlay these two maps. Note that before you make your figure you need to project your maps into the same projection! I suggest using the projection you're already using for polling places. \n",
    "\n",
    "(Note that the shapefile with durham county blocks included projection information, so you don't have to set the projection. You can see this by just checking the `.crs` property to see that it's defined). \n",
    "\n",
    "Make sure that your polling place locations stand out. "
   ]
  },
  {
   "cell_type": "markdown",
   "id": "7d56d694",
   "metadata": {},
   "source": [
    "In this case, the block data we pulled in doesn't have any demographic data, but it has identifiers that allow it to be easily linked to demographic data from the census, so hopefully you can see how we can easily now relate polling places to the demographics of the communities around them."
   ]
  }
 ],
 "metadata": {
  "interpreter": {
   "hash": "f06fa9c80cc08d4d343f66ad24a278ad0285590eac640a80c32c9d748f33a802"
  },
  "kernelspec": {
   "display_name": "Python 3.9.6 64-bit ('base': conda)",
   "name": "python3"
  },
  "language_info": {
   "codemirror_mode": {
    "name": "ipython",
    "version": 3
   },
   "file_extension": ".py",
   "mimetype": "text/x-python",
   "name": "python",
   "nbconvert_exporter": "python",
   "pygments_lexer": "ipython3",
   "version": "3.9.6"
  }
 },
 "nbformat": 4,
 "nbformat_minor": 5
}
