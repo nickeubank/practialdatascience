{
 "cells": [
  {
   "cell_type": "markdown",
   "id": "000764fd",
   "metadata": {},
   "source": [
    "# VS Code for Data Science\n",
    "\n",
    "Here in Duke MIDS, we're increasingly converging on using VS Code in our courses as our \"preferred\" tool for editing and running code. As detailed in the videos below, that's not because we necessarily think it's \"the objectively best editor\"—what editor is best for an individual depends a lot on their own background, programming style, and work flow!— but rather because we think it's a good fit for most students.\n",
    "\n",
    "So below are a set of videos on VS Code that cover, as far as I know, all the important issues you're likely to encounter any time soon!\n",
    "\n",
    "- [Why Use VS Code for Python Data Science?](https://youtu.be/m5CmZzAc8Yk): Details why we, as a program, are increasingly converging on VS Code as our most-supported editor, and what we think is exciting about it.\n",
    "- [Setting Up VS Code for Python Data Science](https://youtu.be/cTL3fKItAZg): How to get VS Code setup for working with Python. Overlaps some [with miniconda install discussed in this reading.](setting_up_your_computer.ipynb)\n",
    "- [Using Jupyter Notebooks and IPython Console](https://youtu.be/aiQGPIljshA): A big advantage of VS Code is that it fully supports Jupyter Notebooks and editing in an IPython Console, so here's how to get that up.\n"
   ]
  }
 ],
 "metadata": {
  "kernelspec": {
   "display_name": "Python 3.9.7 ('base')",
   "language": "python",
   "name": "python3"
  },
  "language_info": {
   "name": "python",
   "version": "3.9.7"
  },
  "vscode": {
   "interpreter": {
    "hash": "3e0a5228cb9726a24d36227c69ed0d3aac98cecda769d1c9adb080711d57f90d"
   }
  }
 },
 "nbformat": 4,
 "nbformat_minor": 5
}
