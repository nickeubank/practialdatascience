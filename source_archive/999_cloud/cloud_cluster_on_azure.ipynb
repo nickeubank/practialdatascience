{
 "cells": [
  {
   "cell_type": "markdown",
   "metadata": {},
   "source": [
    "# Setting Up a Cluster on Azure for Data Science"
   ]
  },
  {
   "cell_type": "markdown",
   "metadata": {},
   "source": [
    "As discussed in our [last lesson](cloud_vm_on_azure.ipynb), getting a single large VM is *by far* the easiest way to move your work to the cluster, and it's what I would do 99% of the time. But sometimes no single computer is big enough to do all the compute you want to accomplish. When that happens, we turn to using  Virtual Machine Cluster, and in particular we're gonna figure out how to set one up with `dask`. \n",
    "\n",
    "As this is one of the later reading in a series, I'll assume you already know about the [basics of what the cloud is](cloud_what_is_it.ipynb) and how [Azure Storage](cloud_storage_on_azure.ipynb) works (and that you have an Azure account already!)."
   ]
  },
  {
   "cell_type": "markdown",
   "metadata": {},
   "source": [
    "## Setup \n",
    "\n",
    "Setting up a cluster is, unfortunately, a little more complicated than starting up a pre-configured VM. With that in mind, we're going to move from setting resources up interactively on the Azure website to using the Azure Command Line Tool (CLI). So before we dive in, go [read this](https://docs.microsoft.com/en-us/cli/azure/install-azure-cli) and follow the directions for installing the tool. Once it's installed, come on back!"
   ]
  },
  {
   "cell_type": "markdown",
   "metadata": {},
   "source": [
    "### Install relevant packages.\n",
    "\n",
    "First, run the following:\n",
    "\n",
    "```\n",
    "pip install \"dask-cloudprovider[azure]\"\n",
    "pip install \"dask-cloudprovider[azure]\" --upgrade\n",
    "pip install adlfs lz4 blosc\n",
    "pip install dask --upgrade\n",
    "pip install distributed --upgrade\n",
    "```\n",
    "\n",
    "### Setup Resources\n",
    "\n",
    "Now we'll talk through setting up all the resources you need for your cluster using the Azure commandline tool.\n",
    "\n",
    "1) Login to Azure.\n",
    "\n",
    "```bash\n",
    "az login\n",
    "```\n",
    "\n",
    "2) Create a new resource group.\n",
    "\n",
    "If you have an existing resource group you're welcome to use it. However, when you create your cluster it'll create all sorts of ancillary resources (mostly related to networking protocols) so if you put them all in a new resource group, it's much easier to clean everything up when you're done by just deleting the resource group. \n",
    "\n",
    "Note that location refers to which of Azure's data centers you want to connect to. You can see a list of [available regions here](https://azure.microsoft.com/en-us/global-infrastructure/geographies/). If you're at Duke, it's probably best to use \"eastus\".\n",
    "\n",
    "```bash\n",
    "az group create --location <location> \\\n",
    "                --name <resource group name> \\\n",
    "                --subscription <subscription>\n",
    "```\n",
    "\n",
    "3) Create a virtual network.\n",
    "\n",
    "In order for the computers in your cluster to see one another, they have to be placed in a virtual network. Here's a basic configuration recommended by the dask team. This will support up to 255 nodes.\n",
    "\n",
    "```bash\n",
    "az network vnet create -g <resource group name> \\\n",
    "                       -n <vnet name> \\\n",
    "                       --address-prefix 10.0.0.0/16 \\\n",
    "                       --subnet-name <subnet name> \\\n",
    "                       --subnet-prefix 10.0.0.0/24\n",
    "```\n",
    "\n",
    "4) Create a security rule.\n",
    "\n",
    "By default, when you create a virtual network it's locked down for security. So the first thing we have to do is create a security rule that allows you to connect to the virtual network from home. This requires creating a Network Security Group and new rule.\n",
    "\n",
    "```bash\n",
    "az network nsg create -g <resource group name> \\\n",
    "                      --name <security group name>\n",
    "\n",
    "az network nsg rule create -g <resource group name> \\\n",
    "                           --nsg-name <security group name> \\\n",
    "                           -n MyNsgRuleWithAsg \\\n",
    "                           --priority 500 \\\n",
    "                           --source-address-prefixes Internet \\\n",
    "                           --destination-port-ranges 8786 8787 \\\n",
    "                           --destination-address-prefixes '*' \\\n",
    "                           --access Allow --protocol Tcp \\\n",
    "                           --description \"Allow Internet to Dask on ports 8786,8787.\"\n",
    "```\n"
   ]
  },
  {
   "cell_type": "markdown",
   "metadata": {},
   "source": [
    "## Start your cluster!\n",
    "\n",
    "Now that we have all resources set up to support the cluster, all that's left is to get it started! The following code will take a few minutes, but you should get a lot of regular notifications about progress."
   ]
  },
  {
   "cell_type": "code",
   "execution_count": 1,
   "metadata": {},
   "outputs": [],
   "source": [
    "%load_ext lab_black\n",
    "from dask_cloudprovider.azure import AzureVMCluster"
   ]
  },
  {
   "cell_type": "code",
   "execution_count": 2,
   "metadata": {},
   "outputs": [
    {
     "name": "stdout",
     "output_type": "stream",
     "text": [
      "Creating scheduler instance\n",
      "Assigned public IP\n",
      "Network interface ready\n",
      "Creating VM\n",
      "Created VM dask-8eec3fa0-scheduler\n",
      "Waiting for scheduler to run\n",
      "Scheduler is running\n",
      "Creating worker instance\n"
     ]
    },
    {
     "name": "stderr",
     "output_type": "stream",
     "text": [
      "/Users/Nick/miniconda3/lib/python3.7/contextlib.py:119: UserWarning: Creating your cluster is taking a surprisingly long time. This is likely due to pending resources. Hang tight! \n",
      "  next(self.gen)\n"
     ]
    },
    {
     "name": "stdout",
     "output_type": "stream",
     "text": [
      "Network interface ready\n",
      "Creating VM\n",
      "Created VM dask-8eec3fa0-worker-29ac2137\n"
     ]
    }
   ],
   "source": [
    "# Start cluster\n",
    "cluster = AzureVMCluster(\n",
    "    resource_group=\"nce8rg\",\n",
    "    vnet=\"nce8vn\",\n",
    "    security_group=\"nce8nsg\",\n",
    "    n_workers=1,\n",
    "    location=\"eastus\",\n",
    ")"
   ]
  },
  {
   "cell_type": "markdown",
   "metadata": {},
   "source": [
    "## Connect to Your Cluster\n",
    "\n",
    "Finally, we need to connect our personal computer to the cluster so we can start assigning it work to do! Thankfully with dask this is *super* easy. (Not familiar with dask yet? [Check out this intro here!](distributed_computing.ipynb))."
   ]
  },
  {
   "cell_type": "code",
   "execution_count": 3,
   "metadata": {},
   "outputs": [
    {
     "name": "stderr",
     "output_type": "stream",
     "text": [
      "/Users/Nick/miniconda3/lib/python3.7/site-packages/distributed/client.py:1129: VersionMismatchWarning: Mismatched versions found\n",
      "\n",
      "+---------+--------+-----------+---------+\n",
      "| Package | client | scheduler | workers |\n",
      "+---------+--------+-----------+---------+\n",
      "| lz4     | 3.1.0  | 3.1.1     | None    |\n",
      "+---------+--------+-----------+---------+\n",
      "  warnings.warn(version_module.VersionMismatchWarning(msg[0][\"warning\"]))\n"
     ]
    }
   ],
   "source": [
    "from dask.distributed import Client\n",
    "\n",
    "client = Client(cluster)"
   ]
  },
  {
   "cell_type": "markdown",
   "metadata": {},
   "source": [
    "And that's it! Now you have a running `dask` cluster you're connected to from home! Now you just use it like any other dask session. Want to see your dask Dashboard to see how your cluster is running? Just run `cluster.dashboard_link` and click the link!"
   ]
  },
  {
   "cell_type": "code",
   "execution_count": 4,
   "metadata": {},
   "outputs": [
    {
     "data": {
      "text/plain": [
       "'http://52.151.219.69:8787/status'"
      ]
     },
     "execution_count": 4,
     "metadata": {},
     "output_type": "execute_result"
    }
   ],
   "source": [
    "cluster.dashboard_link"
   ]
  },
  {
   "cell_type": "markdown",
   "metadata": {},
   "source": [
    "## Scaling Your Cluster"
   ]
  },
  {
   "cell_type": "markdown",
   "metadata": {},
   "source": [
    "The great thing about Azure VM Clusters is that you can create a cluster that starts with, say, two computers (nodes), but then scale it up to 100 nodes when you've debugged your code and are ready to run a bit of computationally intensive code. Then when you're done, those nodes will automatically shut down after they've been idle for a set period of time, and you'll be back to the two nodes. And that means you only have to pay for the 100 nodes *when you are using them!*. Pretty amazing, honestly.\n",
    "\n",
    "To scale your cluster, use the `.scale()` method: "
   ]
  },
  {
   "cell_type": "code",
   "execution_count": 5,
   "metadata": {},
   "outputs": [
    {
     "data": {
      "text/plain": [
       "\u001b[0;31mSignature:\u001b[0m \u001b[0mcluster\u001b[0m\u001b[0;34m.\u001b[0m\u001b[0mscale\u001b[0m\u001b[0;34m(\u001b[0m\u001b[0mn\u001b[0m\u001b[0;34m=\u001b[0m\u001b[0;36m0\u001b[0m\u001b[0;34m,\u001b[0m \u001b[0mmemory\u001b[0m\u001b[0;34m=\u001b[0m\u001b[0;32mNone\u001b[0m\u001b[0;34m,\u001b[0m \u001b[0mcores\u001b[0m\u001b[0;34m=\u001b[0m\u001b[0;32mNone\u001b[0m\u001b[0;34m)\u001b[0m\u001b[0;34m\u001b[0m\u001b[0;34m\u001b[0m\u001b[0m\n",
       "\u001b[0;31mDocstring:\u001b[0m\n",
       "Scale cluster to n workers\n",
       "\n",
       "Parameters\n",
       "----------\n",
       "n: int\n",
       "    Target number of workers\n",
       "\n",
       "Examples\n",
       "--------\n",
       ">>> cluster.scale(10)  # scale cluster to ten workers\n",
       "\u001b[0;31mFile:\u001b[0m      ~/miniconda3/lib/python3.7/site-packages/distributed/deploy/spec.py\n",
       "\u001b[0;31mType:\u001b[0m      method\n"
      ]
     },
     "metadata": {},
     "output_type": "display_data"
    }
   ],
   "source": [
    "cluster.scale?"
   ]
  },
  {
   "cell_type": "code",
   "execution_count": 6,
   "metadata": {},
   "outputs": [
    {
     "name": "stdout",
     "output_type": "stream",
     "text": [
      "Creating worker instance\n"
     ]
    }
   ],
   "source": [
    "# Move from 1 worker to 2\n",
    "cluster.scale(2)"
   ]
  },
  {
   "cell_type": "markdown",
   "metadata": {},
   "source": [
    "Note that scaling is pretty fast, but not instant, so it may take a little time before you see your new works on your dask Dashboard. "
   ]
  },
  {
   "cell_type": "markdown",
   "metadata": {},
   "source": [
    "## Closing your Cluster\n",
    "\n",
    "It's **super** important that when you're done you close your cluster! Otherwise Azure will just keep billing you for it running. (Reminder: its good practice to set up billing alerts! See the last section [here](cloud_vm_on_azure.ipynb) for details."
   ]
  },
  {
   "cell_type": "code",
   "execution_count": null,
   "metadata": {},
   "outputs": [
    {
     "name": "stdout",
     "output_type": "stream",
     "text": [
      "Network interface ready\n",
      "Creating VM\n",
      "Created VM dask-8eec3fa0-worker-99699f0c\n",
      "Terminated VM dask-8eec3fa0-worker-29ac2137\n",
      "Removed disks for VM dask-8eec3fa0-worker-29ac2137\n",
      "Deleted network interface\n",
      "Terminated VM dask-8eec3fa0-worker-99699f0c\n",
      "Removed disks for VM dask-8eec3fa0-worker-99699f0c\n",
      "Deleted network interface\n"
     ]
    }
   ],
   "source": [
    "cluster.close()"
   ]
  }
 ],
 "metadata": {
  "kernelspec": {
   "display_name": "Python 3",
   "language": "python",
   "name": "python3"
  },
  "language_info": {
   "codemirror_mode": {
    "name": "ipython",
    "version": 3
   },
   "file_extension": ".py",
   "mimetype": "text/x-python",
   "name": "python",
   "nbconvert_exporter": "python",
   "pygments_lexer": "ipython3",
   "version": "3.7.8"
  }
 },
 "nbformat": 4,
 "nbformat_minor": 4
}
