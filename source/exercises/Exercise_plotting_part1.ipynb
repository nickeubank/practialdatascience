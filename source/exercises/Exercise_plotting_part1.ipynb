{
 "cells": [
  {
   "cell_type": "markdown",
   "metadata": {},
   "source": [
    "# Plotting Exercises, Part 1"
   ]
  },
  {
   "cell_type": "markdown",
   "metadata": {},
   "source": [
    "## Datasaurus Exercises"
   ]
  },
  {
   "cell_type": "markdown",
   "metadata": {},
   "source": [
    "### Exercise 1\n",
    "\n",
    "Create a pandas dataframe from the \"Datasaurus.txt\" file using the code: "
   ]
  },
  {
   "cell_type": "code",
   "execution_count": 1,
   "metadata": {},
   "outputs": [],
   "source": [
    "import pandas as pd\n",
    "\n",
    "df = pd.read_csv(\n",
    "    \"https://raw.githubusercontent.com/nickeubank/practicaldatascience\"\n",
    "    \"/master/Example_Data/Datasaurus.txt\",\n",
    "    delimiter=\"\\t\",\n",
    ")"
   ]
  },
  {
   "cell_type": "markdown",
   "metadata": {},
   "source": [
    "Note that the file being downloaded is *not* actually a CSV file. It is tab-delimited, meaning that within each row, columns are separated by tabs rather than commas. We communicate this to pandas with the `delimiter=\"\\t\"` option (`\"\\t\"` is how we write a tab, as we will discuss in future lessons). "
   ]
  },
  {
   "cell_type": "markdown",
   "metadata": {},
   "source": [
    "### Exercise 2\n",
    "\n",
    "This dataset actually contains 13 separate example datasets, each with two variables named `example[number]_x` and `example[number]_y`. \n",
    "\n",
    "In order to get a better sense of what these datasets look like, write a loop that iterates over each example dataset (numbered 1 to 13) and print out the mean and standard deviation for `example[number]_x` and `example[number]_y` for each dataset. \n",
    "\n",
    "For example, the first iteration of this loop might return something like:\n",
    "\n",
    "```\n",
    "Example Dataset 1: \n",
    "Mean x: 23.12321978429576, \n",
    "Mean y: 98.23980921730972, \n",
    "Std Dev x: 21.2389710287, \n",
    "Std Dev y: 32.2389081209832,\n",
    "Correlation: 0.73892819281\n",
    "```\n",
    "\n",
    "(Though you shouldn't get those specific values)"
   ]
  },
  {
   "cell_type": "markdown",
   "metadata": {},
   "source": [
    "### Exercise 3\n",
    "\n",
    "Based only on these results, discuss what might you conclude about these example datasets with your partner. Write down your thoughts."
   ]
  },
  {
   "cell_type": "markdown",
   "metadata": {},
   "source": [
    "### Execise 4\n",
    "\n",
    "Write a loop that iterates over these example datasets, and using Altair library, plot a simple scatter plot of each dataset with the `x` variable on the x-axis and the `y` variable on the y-axis.\n",
    "\n",
    "Hint: When writing this type of code, it is often best to start by writing code to do what you want for the first iteration of the loop. Once you have code that works for the first example dataset, then write the full loop around it. "
   ]
  },
  {
   "cell_type": "markdown",
   "metadata": {},
   "source": [
    "### Exercise 5\n",
    "\n",
    "Review you plots. How does your impression of how these datasets differ from what you wrote down in Exercise 3?"
   ]
  },
  {
   "cell_type": "markdown",
   "metadata": {},
   "source": [
    "## Economic Development and... Your Choice!\n",
    "\n",
    "### Exercise 6\n",
    "\n",
    "Load the World Development Indicator data used in the [plotting reading](https://nickeubank.github.io/practicaldatascience_book/notebooks/class_5/week_2/20_plotting_with_seaborn.html). Rather than picking a single year, pick a single country and look at how GDP per capita and one of the other variables in that dataset have evolved together over time. \n",
    "\n",
    "Make any adjustments to the functional forms of your variables and/or axes needed to make the figure legible. \n",
    "\n",
    "### Exercise 7\n",
    "\n",
    "Now add another series to the plot, so you now have two series on the same plot. Make sure to differentiate them so one can see that they are different series!\n",
    "\n",
    "Because your two series will probably be on different scales, you can't just layer your plots with `.add()`\n",
    "\n",
    "Rather than telling you exactly how to do it, however, I'll point you to one of the charts in the Altair Example gallery that has overlapping series with different scales: [here](https://altair-viz.github.io/gallery/layered_chart_with_dual_axis.html). Use your detective skills (and some guess and check work) to figure out how to get it to work!\n",
    "\n",
    "### Exercise 8\n",
    "\n",
    "Give your chart and axes meaningful (and well formatted!) titles."
   ]
  }
 ],
 "metadata": {
  "kernelspec": {
   "display_name": "Python 3",
   "language": "python",
   "name": "python3"
  },
  "language_info": {
   "codemirror_mode": {
    "name": "ipython",
    "version": 3
   },
   "file_extension": ".py",
   "mimetype": "text/x-python",
   "name": "python",
   "nbconvert_exporter": "python",
   "pygments_lexer": "ipython3",
   "version": "3.7.3"
  }
 },
 "nbformat": 4,
 "nbformat_minor": 4
}
